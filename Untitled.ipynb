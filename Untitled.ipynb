{
 "cells": [
  {
   "cell_type": "code",
   "execution_count": 1,
   "id": "98e6824e-f585-4647-8082-fd1493319621",
   "metadata": {},
   "outputs": [],
   "source": [
    "import numpy as np\n",
    "import pandas as pd \n",
    "import matplotlib.pyplot as plt \n",
    "import seaborn as sns\n",
    "\n",
    "from sklearn.feature_extraction.text import CountVectorizer\n",
    "from nltk.stem import WordNetLemmatizer\n",
    "from sklearn.feature_extraction.text import TfidfVectorizer \n",
    "\n",
    "from sklearn.naive_bayes import MultinomialNB\n",
    "from sklearn.naive_bayes import GaussianNB\n",
    "from sklearn.linear_model import LogisticRegression\n",
    "from sklearn.svm import LinearSVC\n",
    "from sklearn.tree import DecisionTreeClassifier\n",
    "\n",
    "from sklearn.metrics import accuracy_score\n",
    "import sklearn.metrics as metrics\n",
    "from sklearn.model_selection import train_test_split\n",
    "from sklearn.metrics import confusion_matrix \n",
    "from sklearn.metrics import classification_report\n",
    "\n",
    "import plotly.graph_objects as go\n",
    "from keras_preprocessing.text import Tokenizer\n",
    "\n",
    "from keras_preprocessing.sequence import pad_sequences\n",
    "from keras.models import Sequential \n",
    "from keras.layers import Dense, BatchNormalization, Embedding, LSTM, Conv1D, GlobalMaxPooling1D\n",
    "from keras.metrics import Accuracy\n",
    "from keras import utils\n",
    "from keras import callbacks"
   ]
  },
  {
   "cell_type": "markdown",
   "id": "147aac52-0963-4598-a401-090efcfdf5e0",
   "metadata": {},
   "source": [
    "*****DATA ANALYSIS*****"
   ]
  },
  {
   "cell_type": "code",
   "execution_count": 2,
   "id": "9708ab5c-ebfe-41eb-a367-2fac99ced4f2",
   "metadata": {},
   "outputs": [
    {
     "data": {
      "text/html": [
       "<div>\n",
       "<style scoped>\n",
       "    .dataframe tbody tr th:only-of-type {\n",
       "        vertical-align: middle;\n",
       "    }\n",
       "\n",
       "    .dataframe tbody tr th {\n",
       "        vertical-align: top;\n",
       "    }\n",
       "\n",
       "    .dataframe thead th {\n",
       "        text-align: right;\n",
       "    }\n",
       "</style>\n",
       "<table border=\"1\" class=\"dataframe\">\n",
       "  <thead>\n",
       "    <tr style=\"text-align: right;\">\n",
       "      <th></th>\n",
       "      <th>Category</th>\n",
       "      <th>Message</th>\n",
       "    </tr>\n",
       "  </thead>\n",
       "  <tbody>\n",
       "    <tr>\n",
       "      <th>0</th>\n",
       "      <td>ham</td>\n",
       "      <td>Go until jurong point, crazy.. Available only ...</td>\n",
       "    </tr>\n",
       "    <tr>\n",
       "      <th>1</th>\n",
       "      <td>ham</td>\n",
       "      <td>Ok lar... Joking wif u oni...</td>\n",
       "    </tr>\n",
       "    <tr>\n",
       "      <th>2</th>\n",
       "      <td>spam</td>\n",
       "      <td>Free entry in 2 a wkly comp to win FA Cup fina...</td>\n",
       "    </tr>\n",
       "    <tr>\n",
       "      <th>3</th>\n",
       "      <td>ham</td>\n",
       "      <td>U dun say so early hor... U c already then say...</td>\n",
       "    </tr>\n",
       "    <tr>\n",
       "      <th>4</th>\n",
       "      <td>ham</td>\n",
       "      <td>Nah I don't think he goes to usf, he lives aro...</td>\n",
       "    </tr>\n",
       "  </tbody>\n",
       "</table>\n",
       "</div>"
      ],
      "text/plain": [
       "  Category                                            Message\n",
       "0      ham  Go until jurong point, crazy.. Available only ...\n",
       "1      ham                      Ok lar... Joking wif u oni...\n",
       "2     spam  Free entry in 2 a wkly comp to win FA Cup fina...\n",
       "3      ham  U dun say so early hor... U c already then say...\n",
       "4      ham  Nah I don't think he goes to usf, he lives aro..."
      ]
     },
     "execution_count": 2,
     "metadata": {},
     "output_type": "execute_result"
    }
   ],
   "source": [
    "df = pd.read_csv(\"Data.csv\")\n",
    "df.head()"
   ]
  },
  {
   "cell_type": "code",
   "execution_count": 3,
   "id": "e695e4fa-1cf2-491b-8c91-0543ca68a05a",
   "metadata": {},
   "outputs": [
    {
     "data": {
      "text/html": [
       "<div>\n",
       "<style scoped>\n",
       "    .dataframe tbody tr th:only-of-type {\n",
       "        vertical-align: middle;\n",
       "    }\n",
       "\n",
       "    .dataframe tbody tr th {\n",
       "        vertical-align: top;\n",
       "    }\n",
       "\n",
       "    .dataframe thead th {\n",
       "        text-align: right;\n",
       "    }\n",
       "</style>\n",
       "<table border=\"1\" class=\"dataframe\">\n",
       "  <thead>\n",
       "    <tr style=\"text-align: right;\">\n",
       "      <th></th>\n",
       "      <th>Category</th>\n",
       "      <th>Message</th>\n",
       "    </tr>\n",
       "  </thead>\n",
       "  <tbody>\n",
       "    <tr>\n",
       "      <th>0</th>\n",
       "      <td>ham</td>\n",
       "      <td>Go until jurong point, crazy.. Available only ...</td>\n",
       "    </tr>\n",
       "    <tr>\n",
       "      <th>1</th>\n",
       "      <td>ham</td>\n",
       "      <td>Ok lar... Joking wif u oni...</td>\n",
       "    </tr>\n",
       "    <tr>\n",
       "      <th>2</th>\n",
       "      <td>spam</td>\n",
       "      <td>Free entry in 2 a wkly comp to win FA Cup fina...</td>\n",
       "    </tr>\n",
       "    <tr>\n",
       "      <th>3</th>\n",
       "      <td>ham</td>\n",
       "      <td>U dun say so early hor... U c already then say...</td>\n",
       "    </tr>\n",
       "    <tr>\n",
       "      <th>4</th>\n",
       "      <td>ham</td>\n",
       "      <td>Nah I don't think he goes to usf, he lives aro...</td>\n",
       "    </tr>\n",
       "    <tr>\n",
       "      <th>...</th>\n",
       "      <td>...</td>\n",
       "      <td>...</td>\n",
       "    </tr>\n",
       "    <tr>\n",
       "      <th>5567</th>\n",
       "      <td>spam</td>\n",
       "      <td>This is the 2nd time we have tried 2 contact u...</td>\n",
       "    </tr>\n",
       "    <tr>\n",
       "      <th>5568</th>\n",
       "      <td>ham</td>\n",
       "      <td>Will ü b going to esplanade fr home?</td>\n",
       "    </tr>\n",
       "    <tr>\n",
       "      <th>5569</th>\n",
       "      <td>ham</td>\n",
       "      <td>Pity, * was in mood for that. So...any other s...</td>\n",
       "    </tr>\n",
       "    <tr>\n",
       "      <th>5570</th>\n",
       "      <td>ham</td>\n",
       "      <td>The guy did some bitching but I acted like i'd...</td>\n",
       "    </tr>\n",
       "    <tr>\n",
       "      <th>5571</th>\n",
       "      <td>ham</td>\n",
       "      <td>Rofl. Its true to its name</td>\n",
       "    </tr>\n",
       "  </tbody>\n",
       "</table>\n",
       "<p>5572 rows × 2 columns</p>\n",
       "</div>"
      ],
      "text/plain": [
       "     Category                                            Message\n",
       "0         ham  Go until jurong point, crazy.. Available only ...\n",
       "1         ham                      Ok lar... Joking wif u oni...\n",
       "2        spam  Free entry in 2 a wkly comp to win FA Cup fina...\n",
       "3         ham  U dun say so early hor... U c already then say...\n",
       "4         ham  Nah I don't think he goes to usf, he lives aro...\n",
       "...       ...                                                ...\n",
       "5567     spam  This is the 2nd time we have tried 2 contact u...\n",
       "5568      ham               Will ü b going to esplanade fr home?\n",
       "5569      ham  Pity, * was in mood for that. So...any other s...\n",
       "5570      ham  The guy did some bitching but I acted like i'd...\n",
       "5571      ham                         Rofl. Its true to its name\n",
       "\n",
       "[5572 rows x 2 columns]"
      ]
     },
     "execution_count": 3,
     "metadata": {},
     "output_type": "execute_result"
    }
   ],
   "source": [
    "df"
   ]
  },
  {
   "cell_type": "code",
   "execution_count": 4,
   "id": "f86f0e0e-25ff-478a-a204-0c033570dc25",
   "metadata": {},
   "outputs": [
    {
     "name": "stdout",
     "output_type": "stream",
     "text": [
      "<class 'pandas.core.frame.DataFrame'>\n",
      "RangeIndex: 5572 entries, 0 to 5571\n",
      "Data columns (total 2 columns):\n",
      " #   Column    Non-Null Count  Dtype \n",
      "---  ------    --------------  ----- \n",
      " 0   Category  5572 non-null   object\n",
      " 1   Message   5572 non-null   object\n",
      "dtypes: object(2)\n",
      "memory usage: 87.2+ KB\n"
     ]
    }
   ],
   "source": [
    "df.info()"
   ]
  },
  {
   "cell_type": "code",
   "execution_count": 5,
   "id": "687d733b-edfd-4245-a3ec-55cc53781756",
   "metadata": {},
   "outputs": [],
   "source": [
    "df_spam = df[df['Category']== 'spam']\n",
    "df_ham = df[df['Category'] == 'ham']"
   ]
  },
  {
   "cell_type": "code",
   "execution_count": 6,
   "id": "a7d609e5-bdca-45bb-b76b-794a4c6971d5",
   "metadata": {},
   "outputs": [
    {
     "data": {
      "text/plain": [
       "(747, 2)"
      ]
     },
     "execution_count": 6,
     "metadata": {},
     "output_type": "execute_result"
    }
   ],
   "source": [
    "df_ham_down = df_ham.sample(df_spam.shape[0])\n",
    "df_ham_down.shape"
   ]
  },
  {
   "cell_type": "code",
   "execution_count": 7,
   "id": "582b9195-d52d-4103-b424-b77553a785e6",
   "metadata": {},
   "outputs": [
    {
     "data": {
      "text/plain": [
       "415"
      ]
     },
     "execution_count": 7,
     "metadata": {},
     "output_type": "execute_result"
    }
   ],
   "source": [
    "df[\"Message\"].duplicated().sum()"
   ]
  },
  {
   "cell_type": "code",
   "execution_count": 8,
   "id": "85a23b73-7973-4e12-97ef-b3a979411d04",
   "metadata": {},
   "outputs": [
    {
     "data": {
      "text/plain": [
       "Category\n",
       "spam    747\n",
       "ham     747\n",
       "Name: count, dtype: int64"
      ]
     },
     "execution_count": 8,
     "metadata": {},
     "output_type": "execute_result"
    }
   ],
   "source": [
    "df_balanced = pd.concat([df_spam, df_ham_down])\n",
    "df_balanced['Category'].value_counts()"
   ]
  },
  {
   "cell_type": "markdown",
   "id": "49f0ff98-b50b-45da-9f4d-90b5017a7062",
   "metadata": {},
   "source": [
    "We preprocess a dataset intended for a classification task, spam detection. First, it prints the number of objects in the dataset helping to understand the dataset's size. Then, it retrieves and prints the unique labels in the 'Category' column to identify the distinct classes, such as 'ham' and 'spam'. To facilitate machine learning algorithms, which typically require numerical input, the code maps 'ham' to 0 and 'spam' to 1. This transformation is done using the replace method."
   ]
  },
  {
   "cell_type": "code",
   "execution_count": 9,
   "id": "98aa2d99-3828-4358-8e58-a1b72666a084",
   "metadata": {},
   "outputs": [
    {
     "name": "stdout",
     "output_type": "stream",
     "text": [
      "Number of objects in the dataset: 5572\n",
      "Types of labels in the dataset: ['ham', 'spam']\n"
     ]
    }
   ],
   "source": [
    "print(f'Number of objects in the dataset: {df.shape[0]}')\n",
    "\n",
    "label_type = list(df['Category'].unique())\n",
    "print(f'Types of labels in the dataset: {label_type}')\n",
    "\n",
    "# ham: 0 , spam : 1\n",
    "df.replace('ham', 0, inplace=True)\n",
    "df.replace('spam', 1, inplace=True)\n",
    "df['Category'] = df['Category'].astype('int8')"
   ]
  },
  {
   "cell_type": "code",
   "execution_count": 10,
   "id": "90f7ec82-46ad-4c4d-8196-7720b10dc8fd",
   "metadata": {},
   "outputs": [
    {
     "data": {
      "text/html": [
       "<div>\n",
       "<style scoped>\n",
       "    .dataframe tbody tr th:only-of-type {\n",
       "        vertical-align: middle;\n",
       "    }\n",
       "\n",
       "    .dataframe tbody tr th {\n",
       "        vertical-align: top;\n",
       "    }\n",
       "\n",
       "    .dataframe thead th {\n",
       "        text-align: right;\n",
       "    }\n",
       "</style>\n",
       "<table border=\"1\" class=\"dataframe\">\n",
       "  <thead>\n",
       "    <tr style=\"text-align: right;\">\n",
       "      <th></th>\n",
       "      <th>Category</th>\n",
       "      <th>Message</th>\n",
       "    </tr>\n",
       "  </thead>\n",
       "  <tbody>\n",
       "    <tr>\n",
       "      <th>0</th>\n",
       "      <td>0</td>\n",
       "      <td>Go until jurong point, crazy.. Available only ...</td>\n",
       "    </tr>\n",
       "    <tr>\n",
       "      <th>1</th>\n",
       "      <td>0</td>\n",
       "      <td>Ok lar... Joking wif u oni...</td>\n",
       "    </tr>\n",
       "    <tr>\n",
       "      <th>2</th>\n",
       "      <td>1</td>\n",
       "      <td>Free entry in 2 a wkly comp to win FA Cup fina...</td>\n",
       "    </tr>\n",
       "    <tr>\n",
       "      <th>3</th>\n",
       "      <td>0</td>\n",
       "      <td>U dun say so early hor... U c already then say...</td>\n",
       "    </tr>\n",
       "    <tr>\n",
       "      <th>4</th>\n",
       "      <td>0</td>\n",
       "      <td>Nah I don't think he goes to usf, he lives aro...</td>\n",
       "    </tr>\n",
       "    <tr>\n",
       "      <th>...</th>\n",
       "      <td>...</td>\n",
       "      <td>...</td>\n",
       "    </tr>\n",
       "    <tr>\n",
       "      <th>5567</th>\n",
       "      <td>1</td>\n",
       "      <td>This is the 2nd time we have tried 2 contact u...</td>\n",
       "    </tr>\n",
       "    <tr>\n",
       "      <th>5568</th>\n",
       "      <td>0</td>\n",
       "      <td>Will ü b going to esplanade fr home?</td>\n",
       "    </tr>\n",
       "    <tr>\n",
       "      <th>5569</th>\n",
       "      <td>0</td>\n",
       "      <td>Pity, * was in mood for that. So...any other s...</td>\n",
       "    </tr>\n",
       "    <tr>\n",
       "      <th>5570</th>\n",
       "      <td>0</td>\n",
       "      <td>The guy did some bitching but I acted like i'd...</td>\n",
       "    </tr>\n",
       "    <tr>\n",
       "      <th>5571</th>\n",
       "      <td>0</td>\n",
       "      <td>Rofl. Its true to its name</td>\n",
       "    </tr>\n",
       "  </tbody>\n",
       "</table>\n",
       "<p>5572 rows × 2 columns</p>\n",
       "</div>"
      ],
      "text/plain": [
       "      Category                                            Message\n",
       "0            0  Go until jurong point, crazy.. Available only ...\n",
       "1            0                      Ok lar... Joking wif u oni...\n",
       "2            1  Free entry in 2 a wkly comp to win FA Cup fina...\n",
       "3            0  U dun say so early hor... U c already then say...\n",
       "4            0  Nah I don't think he goes to usf, he lives aro...\n",
       "...        ...                                                ...\n",
       "5567         1  This is the 2nd time we have tried 2 contact u...\n",
       "5568         0               Will ü b going to esplanade fr home?\n",
       "5569         0  Pity, * was in mood for that. So...any other s...\n",
       "5570         0  The guy did some bitching but I acted like i'd...\n",
       "5571         0                         Rofl. Its true to its name\n",
       "\n",
       "[5572 rows x 2 columns]"
      ]
     },
     "execution_count": 10,
     "metadata": {},
     "output_type": "execute_result"
    }
   ],
   "source": [
    "df"
   ]
  },
  {
   "cell_type": "code",
   "execution_count": 11,
   "id": "8d71345b-0b99-4e4d-bd1b-8a5a617287ba",
   "metadata": {},
   "outputs": [
    {
     "name": "stdout",
     "output_type": "stream",
     "text": [
      "Percentage of spam emails =  13.406317300789663\n",
      "Percentage of ham emails =  86.59368269921033\n"
     ]
    }
   ],
   "source": [
    "spam = len(df[df[\"Category\"] == 1])\n",
    "\n",
    "ham = len(df[df[\"Category\"] == 0])\n",
    "sz = len(df)\n",
    "\n",
    "print(\"Percentage of spam emails = \", spam * 100 / sz)\n",
    "print(\"Percentage of ham emails = \", ham * 100 / sz)"
   ]
  },
  {
   "cell_type": "markdown",
   "id": "49d86f9e-8b58-4adf-8340-5a8cfa5666f4",
   "metadata": {},
   "source": [
    "The statistic indicates that approximately 13.41% of the emails in the dataset are classified as spam, while the remaining 86.59% are classified as ham (non-spam). This distribution reveals that spam emails constitute a relatively small portion of the overall email dataset.The class imbalance between spam and ham emails may affect the performance of machine learning models, particularly in cases where the model is biased towards the majority class (ham). Techniques such as oversampling, undersampling, or using class weights during model training can help address this imbalance and improve the model's ability to classify spam emails accurately."
   ]
  },
  {
   "cell_type": "code",
   "execution_count": 12,
   "id": "41bf1df9-1b56-47df-8a73-9f7205958838",
   "metadata": {},
   "outputs": [
    {
     "data": {
      "image/png": "[encoded data removed]",
      "text/plain": [
       "<Figure size 500x600 with 1 Axes>"
      ]
     },
     "metadata": {},
     "output_type": "display_data"
    }
   ],
   "source": [
    "valus = df[\"Category\"].value_counts()\n",
    "\n",
    "plt.figure(figsize=(5, 6))\n",
    "plt.pie(\n",
    "    valus,\n",
    "    autopct=\"%0.2f%%\",\n",
    "    labels=[\"ham\", \"spam\"],\n",
    "    wedgeprops={\"linewidth\": 2, \"edgecolor\": \"white\"},\n",
    "    explode=[0, 0.2],\n",
    "    startangle=90,\n",
    "    colors=[\"green\", \"violet\"]\n",
    ")\n",
    "plt.title(\"Email Spam and ham percentage\")\n",
    "plt.legend()\n",
    "plt.show()"
   ]
  },
  {
   "cell_type": "code",
   "execution_count": 13,
   "id": "6acea352-9a8c-49ba-80a6-4fa7543ab841",
   "metadata": {},
   "outputs": [
    {
     "data": {
      "image/png": "[encoded data removed]",
      "text/plain": [
       "<Figure size 800x500 with 1 Axes>"
      ]
     },
     "metadata": {},
     "output_type": "display_data"
    }
   ],
   "source": [
    "import matplotlib.pyplot as plt\n",
    "groups = df.groupby(by='Category').count().Message\n",
    "CNT_HAM = groups[0]\n",
    "CNT_SPAM = groups[1]\n",
    "\n",
    "categories = ['Ham', 'Spam']\n",
    "counts = [CNT_HAM, CNT_SPAM]\n",
    "\n",
    "colors = ['#FF6347', '#8A2BE2'] \n",
    "\n",
    "plt.figure(figsize=(8, 5))\n",
    "plt.bar(categories, counts, color=colors, width=0.4)\n",
    "\n",
    "plt.title('Classes and their number in the dataset', loc='center')\n",
    "plt.xlabel('Category')\n",
    "plt.ylabel('Count')\n",
    "\n",
    "plt.show()\n"
   ]
  },
  {
   "cell_type": "markdown",
   "id": "f6d847b8-ce7e-4a04-acb5-3963856cae18",
   "metadata": {},
   "source": [
    "*****TOKENIZATION*****"
   ]
  },
  {
   "cell_type": "code",
   "execution_count": 14,
   "id": "6a8c1fd5-054e-4c16-9803-14d819fde951",
   "metadata": {},
   "outputs": [],
   "source": [
    "texts = df['Message']\n",
    "labels = df['Category']"
   ]
  },
  {
   "cell_type": "markdown",
   "id": "67b38a7a-0ee8-4e7d-b063-f633b46da513",
   "metadata": {},
   "source": [
    "Tokenization is an essential step in natural language processing (NLP). The code demonstrates this process by initializing a tokenizer with a vocabulary limit of the 10,000 most frequent words (NUM_WORDS = 10000) to manage the complexity and size of the dataset. The tokenizer is then fitted on the text data (texts), creating a mapping of words to unique integers based on their frequency. By converting words into numerical tokens, the data becomes suitable for machine learning algorithms, which require numerical input. The code also extracts the first 50 words and their corresponding indices from the tokenizer's word index to give an overview of the most frequent words in the dataset. This step is crucial for transforming raw text into a structured format that can be effectively used in model training and analysis."
   ]
  },
  {
   "cell_type": "code",
   "execution_count": 15,
   "id": "47429b79-c9f5-427b-ac07-2c5843645b53",
   "metadata": {},
   "outputs": [],
   "source": [
    "NUM_WORDS = 10000\n",
    "MAX_TEXT_LEN = 100\n",
    "\n",
    "tokenizer = Tokenizer(num_words=NUM_WORDS)\n",
    "tokenizer.fit_on_texts(texts) "
   ]
  },
  {
   "cell_type": "code",
   "execution_count": 16,
   "id": "0c3e80e1-448a-412d-b9c0-1ca410568f0b",
   "metadata": {},
   "outputs": [
    {
     "name": "stdout",
     "output_type": "stream",
     "text": [
      "The most used tokens in spam messages:\n",
      "to: 688 appearances\n",
      "a: 379 appearances\n",
      "call: 352 appearances\n",
      "you: 290 appearances\n",
      "your: 264 appearances\n",
      "free: 224 appearances\n",
      "for: 203 appearances\n",
      "the: 203 appearances\n",
      "now: 202 appearances\n",
      "2: 194 appearances\n"
     ]
    }
   ],
   "source": [
    "texts_spam = df_spam['Message']\n",
    "tokenizer_spam = Tokenizer(num_words=NUM_WORDS)\n",
    "tokenizer_spam.fit_on_texts(texts_spam)\n",
    "\n",
    "word_counts_spam = tokenizer_spam.word_counts\n",
    "\n",
    "sorted_word_counts_spam = sorted(word_counts_spam.items(), key=lambda x: x[1], reverse=True)\n",
    "\n",
    "\n",
    "num_top_tokens = 10  \n",
    "top_tokens_spam = sorted_word_counts_spam[:num_top_tokens]\n",
    "\n",
    "print(\"The most used tokens in spam messages:\")\n",
    "for token, count in top_tokens_spam:\n",
    "    print(f\"{token}: {count} appearances\")\n"
   ]
  },
  {
   "cell_type": "code",
   "execution_count": 17,
   "id": "2f8688bf-08c7-478d-8cc4-4719e78d08a5",
   "metadata": {},
   "outputs": [
    {
     "name": "stdout",
     "output_type": "stream",
     "text": [
      "The most used tokens in ham messages:\n",
      "i: 2311 appearances\n",
      "you: 1864 appearances\n",
      "to: 1562 appearances\n",
      "the: 1133 appearances\n",
      "a: 1068 appearances\n",
      "u: 1019 appearances\n",
      "and: 858 appearances\n",
      "in: 823 appearances\n",
      "me: 777 appearances\n",
      "my: 754 appearances\n"
     ]
    }
   ],
   "source": [
    "texts_ham = df_ham['Message']\n",
    "tokenizer_ham = Tokenizer(num_words=NUM_WORDS)\n",
    "tokenizer_ham.fit_on_texts(texts_ham)\n",
    "\n",
    "word_counts_ham = tokenizer_ham.word_counts\n",
    "\n",
    "sorted_word_counts_ham = sorted(word_counts_ham.items(), key=lambda x: x[1], reverse=True)\n",
    "\n",
    "num_top_tokens = 10 \n",
    "top_tokens_ham = sorted_word_counts_ham[:num_top_tokens]\n",
    "\n",
    "print(\"The most used tokens in ham messages:\")\n",
    "for token, count in top_tokens_ham:\n",
    "    print(f\"{token}: {count} appearances\")\n"
   ]
  },
  {
   "cell_type": "markdown",
   "id": "1ed152b9-a848-4b5d-a924-1c4b19447cea",
   "metadata": {},
   "source": [
    "We calculate the frequency of specific categories of words within spam and ham messages. We define three categories: \"people\" (e.g., personal pronouns), \"locations\" (e.g., places), and \"key_spam\" (e.g., words commonly found in spam messages).\n",
    "For each category, the code calculates the frequency of words within that category appearing in both spam and ham messages separately. It then prints out the frequency of each word within the specified categories for both spam and ham messages.\n",
    "This analysis helps us understand the linguistic patterns and common themes present in spam and ham messages. By identifying which categories of words are more prevalent in spam messages compared to ham messages, we can gain insights into the characteristics of spam messages and potentially improve spam detection algorithms. For example, if certain personal pronouns or locations are frequently used in spam messages, we can use this information to develop more accurate filters or classifiers to identify and block spam emails."
   ]
  },
  {
   "cell_type": "code",
   "execution_count": 18,
   "id": "08468c36-e547-4944-aac6-69d9f2538414",
   "metadata": {},
   "outputs": [
    {
     "name": "stdout",
     "output_type": "stream",
     "text": [
      "Frequency of words in the 'people' category in spam messages:\n",
      "you: 290 appearances\n",
      "they: 16 appearances\n",
      "we: 49 appearances\n",
      "us: 9 appearances\n",
      "them: 2 appearances\n",
      "\n",
      "Frequency of words from the 'locations' category in spam messages:\n",
      "here: 7 appearances\n",
      "there: 12 appearances\n",
      "house: 1 appearances\n",
      "home: 2 appearances\n",
      "office: 1 appearances\n",
      "\n",
      "Frequency of words in the 'key_spam' category in spam messages:\n",
      "prize: 91 appearances\n",
      "win: 64 appearances\n",
      "call: 352 appearances\n",
      "text: 125 appearances\n",
      "receive: 33 appearances\n",
      "txt: 163 appearances\n",
      "\n",
      "Frequency of words from the 'people' category in ham messages:\n",
      "you: 1864 appearances\n",
      "they: 112 appearances\n",
      "he: 195 appearances\n",
      "she: 144 appearances\n",
      "we: 304 appearances\n",
      "us: 58 appearances\n",
      "them: 81 appearances\n",
      "\n",
      "Frequency of words from the 'locations' category in ham messages:\n",
      "here: 116 appearances\n",
      "there: 190 appearances\n",
      "house: 42 appearances\n",
      "home: 165 appearances\n",
      "office: 30 appearances\n",
      "school: 27 appearances\n",
      "\n",
      "Frequency of words in the 'key_spam' category in ham messages:\n",
      "win: 12 appearances\n",
      "call: 238 appearances\n",
      "text: 68 appearances\n",
      "receive: 5 appearances\n",
      "txt: 14 appearances\n"
     ]
    }
   ],
   "source": [
    "categorie_persoane = ['I', 'you', 'they', 'he', 'she', 'we', 'us', 'them']\n",
    "categorie_locatii = ['here', 'there', 'house', 'home', 'office', 'school']\n",
    "key_spam = ['prize', 'win', 'call', 'text', 'receive', 'txt']\n",
    "\n",
    "def calculate_category_frequency(texts, categorie):\n",
    "    tokenizer = Tokenizer(num_words=NUM_WORDS)\n",
    "    tokenizer.fit_on_texts(texts)\n",
    "    word_counts = tokenizer.word_counts\n",
    "    category_count = {word: word_counts[word] for word in categorie if word in word_counts}\n",
    "    return category_count\n",
    "\n",
    "texts_spam = df_spam['Message']\n",
    "spam_persoane_freq = calculate_category_frequency(texts_spam, categorie_persoane)\n",
    "spam_locatii_freq = calculate_category_frequency(texts_spam, categorie_locatii)\n",
    "spam_key_freq = calculate_category_frequency(texts_spam, key_spam)\n",
    "\n",
    "texts_ham = df_ham['Message']\n",
    "ham_persoane_freq = calculate_category_frequency(texts_ham, categorie_persoane)\n",
    "ham_locatii_freq = calculate_category_frequency(texts_ham, categorie_locatii)\n",
    "ham_key_freq = calculate_category_frequency(texts_ham, key_spam)\n",
    "\n",
    "print(\"Frequency of words in the 'people' category in spam messages:\")\n",
    "for word, count in spam_persoane_freq.items():\n",
    "    print(f\"{word}: {count} appearances\")\n",
    "\n",
    "print(\"\\nFrequency of words from the 'locations' category in spam messages:\")\n",
    "for word, count in spam_locatii_freq.items():\n",
    "    print(f\"{word}: {count} appearances\")\n",
    "\n",
    "print(\"\\nFrequency of words in the 'key_spam' category in spam messages:\")\n",
    "for word, count in spam_key_freq.items():\n",
    "    print(f\"{word}: {count} appearances\")\n",
    "\n",
    "print(\"\\nFrequency of words from the 'people' category in ham messages:\")\n",
    "for word, count in ham_persoane_freq.items():\n",
    "    print(f\"{word}: {count} appearances\")\n",
    "\n",
    "print(\"\\nFrequency of words from the 'locations' category in ham messages:\")\n",
    "for word, count in ham_locatii_freq.items():\n",
    "    print(f\"{word}: {count} appearances\")\n",
    "\n",
    "print(\"\\nFrequency of words in the 'key_spam' category in ham messages:\")\n",
    "for word, count in ham_key_freq.items():\n",
    "    print(f\"{word}: {count} appearances\")\n"
   ]
  },
  {
   "cell_type": "markdown",
   "id": "a19e0e83-cb3d-4d77-83d2-75805886ad82",
   "metadata": {},
   "source": [
    "In both spam and ham messages, the personal pronoun \"you\" appears frequently. However, spam messages tend to use personal pronouns like \"we\", \"us\", and \"them\" less frequently compared to ham messages. \n",
    "Location-related words are less prevalent in spam messages compared to ham messages, indicating that spam emails may not often reference specific places or contexts.\n",
    "Words such as \"call\", \"text\", and \"receive\" are commonly found in both spam and ham messages. However, spam messages contain significantly higher frequencies of words like \"prize\", \"win\", and \"txt\"."
   ]
  },
  {
   "cell_type": "code",
   "execution_count": 19,
   "id": "9a82897b-de92-4c30-9d12-4f72b920a719",
   "metadata": {},
   "outputs": [
    {
     "data": {
      "text/plain": [
       "[('i', 1),\n",
       " ('to', 2),\n",
       " ('you', 3),\n",
       " ('a', 4),\n",
       " ('the', 5),\n",
       " ('u', 6),\n",
       " ('and', 7),\n",
       " ('in', 8),\n",
       " ('is', 9),\n",
       " ('me', 10)]"
      ]
     },
     "execution_count": 19,
     "metadata": {},
     "output_type": "execute_result"
    }
   ],
   "source": [
    "word_count = 10\n",
    "keys = list(tokenizer.word_index.keys())[:word_count]\n",
    "values = list(tokenizer.word_index.values())[:word_count]\n",
    "list(zip(keys, values))"
   ]
  },
  {
   "cell_type": "markdown",
   "id": "a2e23ff2-36ad-40c8-9cda-bcfd86a55d8f",
   "metadata": {},
   "source": [
    "Understanding the distribution of text lengths in a dataset can provide valuable insights into the nature and structure of the text data. In the provided code, a histogram of the length of texts is plotted, showing the frequency of texts with different lengths."
   ]
  },
  {
   "cell_type": "code",
   "execution_count": 20,
   "id": "2bdc420c-cee0-4ff0-a786-c8bbfb2e191d",
   "metadata": {},
   "outputs": [
    {
     "data": {
      "image/png": "[encoded data removed]",
      "text/plain": [
       "<Figure size 800x500 with 1 Axes>"
      ]
     },
     "metadata": {},
     "output_type": "display_data"
    }
   ],
   "source": [
    "colors = ['#FF6347', '#8A2BE2'] \n",
    "texts = df['Message'].tolist()\n",
    "tokenizer = Tokenizer()\n",
    "tokenizer.fit_on_texts(texts)\n",
    "\n",
    "sequences = tokenizer.texts_to_sequences(texts)\n",
    "\n",
    "sequences_len = [len(sequence) for sequence in sequences]\n",
    "\n",
    "plt.figure(figsize=(8, 5))\n",
    "plt.hist(sequences_len, bins=range(1, max(sequences_len) + 2), color='indianred', edgecolor='black')\n",
    "\n",
    "plt.title('Histogram of the length of texts', loc='center')\n",
    "plt.xlabel('Text length')\n",
    "plt.ylabel('Count')\n",
    "\n",
    "plt.show()"
   ]
  },
  {
   "cell_type": "markdown",
   "id": "fa75634b-bc5c-4c3f-b67e-65c55955dc96",
   "metadata": {},
   "source": [
    "*****TRAIN AND TEST SPLIT*****"
   ]
  },
  {
   "cell_type": "markdown",
   "id": "02971e03-e6fb-43da-bc0c-202d209cda28",
   "metadata": {},
   "source": [
    "To ensure that various models can be trained and evaluated effectively, the dataset needs to be split in multiple ways. The first split uses train_test_split with stratification and a fixed random seed to ensure the distribution of classes remains consistent between the training and test sets. The second split focuses on another balanced dataset, separating it for a logistic regression model, which may require specific preprocessing. The third split, for LSTM models, ensures shuffling to prevent order-based biases and uses a different random state to maintain reproducibility. These varied splits cater to the unique requirements of different models and preprocessing techniques, facilitating thorough and accurate model training and evaluation."
   ]
  },
  {
   "cell_type": "code",
   "execution_count": 21,
   "id": "b6fb7fd0-efe6-4a18-af65-54a5cafd1f1b",
   "metadata": {},
   "outputs": [],
   "source": [
    "data = df[:1000]\n",
    "docs = list(data['Message'])\n",
    "tfidf_vectorizer = TfidfVectorizer(use_idf=True, max_features = 20000) \n",
    "tfidf_vectorizer_vectors = tfidf_vectorizer.fit_transform(docs)\n",
    "docs = tfidf_vectorizer_vectors.toarray()"
   ]
  },
  {
   "cell_type": "code",
   "execution_count": 22,
   "id": "86898047-bd14-4610-92e4-647a12fe15a0",
   "metadata": {},
   "outputs": [
    {
     "name": "stdout",
     "output_type": "stream",
     "text": [
      "(1000, 3334) (1000,)\n",
      "(5572,) (5572,)\n"
     ]
    }
   ],
   "source": [
    "X_L = docs \n",
    "y_L = data['Category']\n",
    "print(X_L.shape, y_L.shape)\n",
    "\n",
    "X = df['Message']  #\n",
    "y = df['Category']\n",
    "print(X.shape, y.shape)\n"
   ]
  },
  {
   "cell_type": "code",
   "execution_count": 23,
   "id": "35f1f73c-5d1f-413e-8a3d-843fc6029f5f",
   "metadata": {},
   "outputs": [
    {
     "name": "stdout",
     "output_type": "stream",
     "text": [
      "(800, 3334) (800,)\n",
      "(200, 3334) (200,)\n"
     ]
    }
   ],
   "source": [
    "SEED=123\n",
    "X_train_Models,X_test_Models,y_train_Models,y_test_Models =train_test_split(X_L, y_L, test_size=0.2, random_state=SEED, stratify=y_L)\n",
    "print(X_train_Models.shape, y_train_Models.shape)\n",
    "print(X_test_Models.shape, y_test_Models.shape)\n",
    "from sklearn.preprocessing import LabelEncoder\n",
    "label_encoder = LabelEncoder()\n",
    "y_train_Models = label_encoder.fit_transform(y_train_Models)\n",
    "y_test_Models = label_encoder.transform(y_test_Models)"
   ]
  },
  {
   "cell_type": "code",
   "execution_count": 24,
   "id": "dedcc3d4-433c-4560-b607-09518e7ab740",
   "metadata": {},
   "outputs": [
    {
     "name": "stdout",
     "output_type": "stream",
     "text": [
      "Training sample size: 4457\n",
      "Test sample size: 1115\n"
     ]
    }
   ],
   "source": [
    "X_train_LSTM, X_test_LSTM, y_train_LSTM, y_test_LSTM = train_test_split(X, y, test_size=0.2, shuffle=True, random_state=42)\n",
    "print(f'Training sample size: {len(X_train_LSTM)}')\n",
    "print(f'Test sample size: {len(X_test_LSTM)}')"
   ]
  },
  {
   "cell_type": "markdown",
   "id": "55fd86bd-dece-4538-860a-eb5c83d2fc85",
   "metadata": {},
   "source": [
    "*****MODELS*****"
   ]
  },
  {
   "cell_type": "markdown",
   "id": "a6e709b2-879b-4966-9d52-7274242679e5",
   "metadata": {},
   "source": [
    "We use Gaussian Naive Bayes (GaussianNB) because it's super simple and works really well for certain types of data, especially when features are continuous and follow a normal distribution. It's great for quick classification tasks because it doesn't need much data to start giving decent results. The model is fast to train and predict. Plus, it handles small datasets well and can still give good performance. \n",
    "GaussianNB works by applying Bayes' Theorem with the \"naive\" assumption that all features are independent of each other. For each class (like spam or ham), it calculates the probability of a given data point (message) belonging to that class. It assumes that the features follow a normal distribution, which means it uses the mean and variance of the features to compute these probabilities. When making predictions, it picks the class with the highest probability for the given data point. This method is fast and efficient, especially for problems where the independence assumption holds reasonably well, making it a great choice for initial models or when you need quick results."
   ]
  },
  {
   "cell_type": "code",
   "execution_count": 25,
   "id": "db35d31c-ea2f-47f1-b4fe-2b9410ded469",
   "metadata": {},
   "outputs": [
    {
     "name": "stdout",
     "output_type": "stream",
     "text": [
      "\n",
      "Training Accuracy score: 0.9925\n",
      "Testing Accuracy score: 0.915\n"
     ]
    }
   ],
   "source": [
    "gnb = GaussianNB() \n",
    "gnb.fit(X_train_Models, y_train_Models)\n",
    "\n",
    "y_pred_train = gnb.predict(X_train_Models)\n",
    "y_pred_test = gnb.predict(X_test_Models)\n",
    "gnb_accuracy = accuracy_score(y_test_Models, y_pred_test)\n",
    "print(\"\\nTraining Accuracy score:\",accuracy_score(y_train_Models, y_pred_train))\n",
    "print(\"Testing Accuracy score:\",accuracy_score(y_test_Models, y_pred_test))"
   ]
  },
  {
   "cell_type": "code",
   "execution_count": 26,
   "id": "c922a432-dd16-4776-b391-59ffcc988ae1",
   "metadata": {},
   "outputs": [
    {
     "data": {
      "image/png": "[encoded data removed]",
      "text/plain": [
       "<Figure size 640x480 with 2 Axes>"
      ]
     },
     "metadata": {},
     "output_type": "display_data"
    }
   ],
   "source": [
    "cm = confusion_matrix(y_test_Models, y_pred_test)\n",
    "cm_matrix = pd.DataFrame(data=cm, columns=['Actual Positive', 'Actual Negative'], \n",
    "                        index=['Predict Positive', 'Predict Negative'])\n",
    "sns.heatmap(cm_matrix, annot=True, fmt='d', cmap='YlGnBu')\n",
    "plt.show()"
   ]
  },
  {
   "cell_type": "markdown",
   "id": "6ef599c0-2c4c-4da1-87de-703dfcca7ce3",
   "metadata": {},
   "source": [
    "The decision to employ the Decision Tree Classifier (DT) in our text classification task was driven by several key considerations. Firstly, DTs offer a compelling advantage in interpretability, presenting classification decisions in a clear, hierarchical structure akin to a tree.  Additionally, DTs are relatively simple to implement and require minimal hyperparameter tuning, making them a pragmatic choice for projects where rapid development and deployment are paramount.\n",
    "Moreover, the inherent feature importance analysis provided by DTs allows us to gain insights into the significance of different features in the classification process, aiding in feature selection and model refinement. "
   ]
  },
  {
   "cell_type": "code",
   "execution_count": 27,
   "id": "121746a7-6734-4b74-8d02-5e37a950b5f4",
   "metadata": {},
   "outputs": [
    {
     "name": "stdout",
     "output_type": "stream",
     "text": [
      "\n",
      "Training Accuracy score: 1.0\n",
      "Testing Accuracy score: 0.96\n"
     ]
    }
   ],
   "source": [
    "dt = DecisionTreeClassifier(random_state=SEED)\n",
    "dt.fit(X_train_Models, y_train_Models)\n",
    "\n",
    "y_pred_train = dt.predict(X_train_Models)\n",
    "y_pred_test = dt.predict(X_test_Models)\n",
    "dt_accuracy = accuracy_score(y_test_Models, y_pred_test)\n",
    "print(\"\\nTraining Accuracy score:\",accuracy_score(y_train_Models, y_pred_train))\n",
    "print(\"Testing Accuracy score:\",accuracy_score(y_test_Models, y_pred_test))"
   ]
  },
  {
   "cell_type": "code",
   "execution_count": 28,
   "id": "2abbcf8d-9b55-4f38-a7b1-7ebb24cf11c0",
   "metadata": {},
   "outputs": [
    {
     "data": {
      "image/png": "[encoded data removed]",
      "text/plain": [
       "<Figure size 640x480 with 2 Axes>"
      ]
     },
     "metadata": {},
     "output_type": "display_data"
    }
   ],
   "source": [
    "cm = confusion_matrix(y_test_Models, y_pred_test)\n",
    "\n",
    "cm_matrix = pd.DataFrame(data=cm, columns=['Actual Positive', 'Actual Negative'], \n",
    "                        index=['Predict Positive', 'Predict Negative'])\n",
    "sns.heatmap(cm_matrix, annot=True, fmt='d', cmap='YlGnBu')\n",
    "plt.show()"
   ]
  },
  {
   "cell_type": "markdown",
   "id": "d5ea2ba0-f704-4234-b519-4f19799fbcd4",
   "metadata": {},
   "source": [
    "*****Convolutional Neural Network (CNN)*****"
   ]
  },
  {
   "cell_type": "markdown",
   "id": "b7e2594e-422a-4e0f-ba0d-c5a120a230a8",
   "metadata": {},
   "source": [
    "The code implements a Convolutional Neural Network (CNN) architecture for the task of spam detection. It begins by preprocessing the text data, tokenizing and padding the sequences to ensure uniform length. The CNN model architecture comprises an embedding layer, followed by a one-dimensional convolutional layer with 128 filters and a kernel, which captures local patterns within the text. A global max pooling layer is applied to reduce the dimensionality of the feature maps. Finally, a dense layer with sigmoid activation performs binary classification to determine if a message is spam or not. During training, the model uses the Adam optimizer and binary cross-entropy loss function, with early stopping and model checkpointing callbacks to prevent overfitting. After training, the model's performance is evaluated on the test data in terms of loss and accuracy. A utility function ml_pipeline_cnn is defined to classify new text inputs as spam or not spam using the trained model. Overall, this CNN-based approach offers an effective method for detecting spam messages by leveraging local patterns in the text data."
   ]
  },
  {
   "cell_type": "code",
   "execution_count": 29,
   "id": "4a33c17b-2cfc-4569-8070-115acbc5ea76",
   "metadata": {},
   "outputs": [
    {
     "name": "stdout",
     "output_type": "stream",
     "text": [
      "Epoch 1/4\n",
      "\u001b[1m72/72\u001b[0m \u001b[32m━━━━━━━━━━━━━━━━━━━━\u001b[0m\u001b[37m\u001b[0m \u001b[1m2s\u001b[0m 21ms/step - accuracy: 0.8532 - loss: 0.4282 - val_accuracy: 0.9574 - val_loss: 0.1348\n",
      "Epoch 2/4\n",
      "\u001b[1m72/72\u001b[0m \u001b[32m━━━━━━━━━━━━━━━━━━━━\u001b[0m\u001b[37m\u001b[0m \u001b[1m1s\u001b[0m 18ms/step - accuracy: 0.9822 - loss: 0.0607 - val_accuracy: 0.9821 - val_loss: 0.0729\n",
      "Epoch 3/4\n",
      "\u001b[1m72/72\u001b[0m \u001b[32m━━━━━━━━━━━━━━━━━━━━\u001b[0m\u001b[37m\u001b[0m \u001b[1m1s\u001b[0m 18ms/step - accuracy: 0.9974 - loss: 0.0145 - val_accuracy: 0.9787 - val_loss: 0.0691\n",
      "Epoch 4/4\n",
      "\u001b[1m72/72\u001b[0m \u001b[32m━━━━━━━━━━━━━━━━━━━━\u001b[0m\u001b[37m\u001b[0m \u001b[1m1s\u001b[0m 18ms/step - accuracy: 1.0000 - loss: 0.0047 - val_accuracy: 0.9843 - val_loss: 0.0709\n",
      "\u001b[1m35/35\u001b[0m \u001b[32m━━━━━━━━━━━━━━━━━━━━\u001b[0m\u001b[37m\u001b[0m \u001b[1m0s\u001b[0m 3ms/step - accuracy: 0.9871 - loss: 0.0484\n",
      "Test Loss: 0.0473976656794548, Test Accuracy: 0.9865471124649048\n"
     ]
    }
   ],
   "source": [
    "from keras.callbacks import EarlyStopping, ModelCheckpoint\n",
    "\n",
    "NUM_WORDS = 10000\n",
    "MAX_TEXT_LEN = 100\n",
    "\n",
    "early_stopping = EarlyStopping(monitor='val_loss', patience=3, restore_best_weights=True)\n",
    "model_checkpoint = ModelCheckpoint(filepath='best_model_cnn.keras', monitor='val_accuracy', save_best_only=True)\n",
    "\n",
    "tokenizer = Tokenizer(num_words=NUM_WORDS)\n",
    "tokenizer.fit_on_texts(X_train_LSTM)\n",
    "\n",
    "X_train_sequences = tokenizer.texts_to_sequences(X_train_LSTM)\n",
    "X_test_sequences = tokenizer.texts_to_sequences(X_test_LSTM)\n",
    "\n",
    "X_train_padded = pad_sequences(X_train_sequences, maxlen=MAX_TEXT_LEN)\n",
    "X_test_padded = pad_sequences(X_test_sequences, maxlen=MAX_TEXT_LEN)\n",
    "\n",
    "model_cnn = Sequential()\n",
    "model_cnn.add(Embedding(input_dim=NUM_WORDS, output_dim=128))\n",
    "model_cnn.add(Conv1D(128, 5, activation='relu'))\n",
    "model_cnn.add(GlobalMaxPooling1D())\n",
    "model_cnn.add(Dense(1, activation='sigmoid'))\n",
    "\n",
    "model_cnn.compile(optimizer='adam', loss='binary_crossentropy', metrics=['accuracy'])\n",
    "\n",
    "history_cnn = model_cnn.fit(X_train_padded, y_train_LSTM, \n",
    "                            batch_size=50, \n",
    "                            epochs=4, \n",
    "                            validation_split=0.2, \n",
    "                            callbacks=[early_stopping, model_checkpoint])\n",
    "\n",
    "\n",
    "loss, accuracy = model_cnn.evaluate(X_test_padded, y_test_LSTM)\n",
    "print(f'Test Loss: {loss}, Test Accuracy: {accuracy}')\n",
    "\n",
    "\n",
    "def ml_pipeline_cnn(text: str) -> str:\n",
    "    try:\n",
    "        sequence = tokenizer.texts_to_sequences([text])\n",
    "        sequence = pad_sequences(sequence, maxlen=MAX_TEXT_LEN)\n",
    "        if sequence.max() == 0:\n",
    "            return 'Enter the words in English'\n",
    "        else:\n",
    "            predict = model_cnn.predict(sequence, verbose=0)\n",
    "            if predict > 0.5:\n",
    "                return 'The text is spam'\n",
    "            else:\n",
    "                return 'The text is not spam'\n",
    "    except AttributeError:\n",
    "        return 'Enter the text'\n"
   ]
  },
  {
   "cell_type": "code",
   "execution_count": 30,
   "id": "18cf07db-667b-4da0-bb6e-dc5b13b8903f",
   "metadata": {},
   "outputs": [
    {
     "data": {
      "text/plain": [
       "'The text is not spam'"
      ]
     },
     "execution_count": 30,
     "metadata": {},
     "output_type": "execute_result"
    }
   ],
   "source": [
    "ml_pipeline_cnn('How were the exams...I heard from your friend that it was ok??.')"
   ]
  },
  {
   "cell_type": "code",
   "execution_count": 31,
   "id": "77a611c5-7485-4e6e-889f-44c38e051f5d",
   "metadata": {},
   "outputs": [
    {
     "data": {
      "text/plain": [
       "'The text is not spam'"
      ]
     },
     "execution_count": 31,
     "metadata": {},
     "output_type": "execute_result"
    }
   ],
   "source": [
    "ml_pipeline_cnn('Happy B-day Bro!! Here are the photos from your party! https://drive.google.com/drive/folders/')"
   ]
  },
  {
   "cell_type": "code",
   "execution_count": 32,
   "id": "396f56e8-c967-47da-ba57-82012f21151a",
   "metadata": {},
   "outputs": [
    {
     "data": {
      "text/plain": [
       "'The text is spam'"
      ]
     },
     "execution_count": 32,
     "metadata": {},
     "output_type": "execute_result"
    }
   ],
   "source": [
    "ml_pipeline_cnn('Free entry for 3 comp to win FA Cup final tkts 21st May 2005')"
   ]
  },
  {
   "cell_type": "code",
   "execution_count": 33,
   "id": "ef842526-2fdd-4c8e-a0e9-d21a94e9bb2e",
   "metadata": {},
   "outputs": [
    {
     "data": {
      "text/plain": [
       "'The text is spam'"
      ]
     },
     "execution_count": 33,
     "metadata": {},
     "output_type": "execute_result"
    }
   ],
   "source": [
    "ml_pipeline_cnn('Congratulations! You ve won a free cruise to the Bahamas. Claim your prize now by calling 555-123-4567.')"
   ]
  },
  {
   "cell_type": "markdown",
   "id": "ca8864e7-0bbe-43e3-aba4-bc2d4fd3576f",
   "metadata": {},
   "source": [
    "*****Long Short-Term Memory(LTSM)*****"
   ]
  },
  {
   "cell_type": "markdown",
   "id": "2a86694d-21f4-4239-8d1c-dd86e005a369",
   "metadata": {},
   "source": [
    "The initial imports bring in functionalities from the Keras library, a high-level neural networks API, namely EarlyStopping and ModelCheckpoint. These callbacks play pivotal roles during model training. EarlyStopping halts the training process when the monitored metric (in this case, validation loss) stops improving for a specified number of epochs, thereby preventing overfitting. On the other hand, ModelCheckpoint saves the model with the best performance on the validation set.\n",
    "The subsequent steps involve text preprocessing, a crucial phase in NLP tasks. Here, the Tokenizer class from Keras tokenizes the text data, converting words into numerical tokens. This step enables the model to process textual information, a prerequisite for training neural networks. The texts_to_sequences method converts the text into sequences of integers based on the tokenization.\n",
    "Padding sequences is another essential preprocessing step. It ensures that all sequences have the same length, as neural networks require fixed input sizes. The pad_sequences function pads or truncates sequences to a specified length, which is crucial for maintaining uniformity in input dimensions.\n",
    "Moving on to the model architecture, the neural network comprises layers designed specifically for processing sequential data like text. The Embedding layer acts as the input layer, converting tokenized integers into dense vectors of fixed size. These vectors capture semantic relationships between words, enriching the model's understanding of the text.\n",
    "The LSTM (Long Short-Term Memory) layer is a type of recurrent neural network (RNN) layer, adept at capturing long-term dependencies in sequential data. In the context of text classification, LSTM excels at understanding the context and sequence of words, making it suitable for tasks like sentiment analysis or spam detection.\n",
    "Finally, the Dense layer serves as the output layer, producing a single output representing the probability of the input text belonging to a particular class (e.g., spam or not spam). \n",
    "During model compilation, the optimizer adam is chosen, which adapts the learning rate during training to improve convergence. The loss function binary_crossentropy is appropriate for binary classification tasks, measuring the dissimilarity between predicted and actual class probabilities.\n",
    "Model training ensues with the fit method, where the training data (X_train_padded) and labels (y_train_LSTM) are provided, along with batch size, number of epochs, and validation data. The callbacks early_stopping and model_checkpoint are passed to monitor the validation loss and save the best model based on validation accuracy, respectively."
   ]
  },
  {
   "cell_type": "code",
   "execution_count": 34,
   "id": "d6c260e2-6eec-4a0f-bf5a-5cc912750905",
   "metadata": {},
   "outputs": [
    {
     "name": "stdout",
     "output_type": "stream",
     "text": [
      "Epoch 1/4\n",
      "\u001b[1m72/72\u001b[0m \u001b[32m━━━━━━━━━━━━━━━━━━━━\u001b[0m\u001b[37m\u001b[0m \u001b[1m4s\u001b[0m 38ms/step - accuracy: 0.8717 - loss: 0.3424 - val_accuracy: 0.9652 - val_loss: 0.1137\n",
      "Epoch 2/4\n",
      "\u001b[1m72/72\u001b[0m \u001b[32m━━━━━━━━━━━━━━━━━━━━\u001b[0m\u001b[37m\u001b[0m \u001b[1m2s\u001b[0m 34ms/step - accuracy: 0.9873 - loss: 0.0487 - val_accuracy: 0.9798 - val_loss: 0.0749\n",
      "Epoch 3/4\n",
      "\u001b[1m72/72\u001b[0m \u001b[32m━━━━━━━━━━━━━━━━━━━━\u001b[0m\u001b[37m\u001b[0m \u001b[1m2s\u001b[0m 34ms/step - accuracy: 0.9936 - loss: 0.0187 - val_accuracy: 0.9832 - val_loss: 0.0727\n",
      "Epoch 4/4\n",
      "\u001b[1m72/72\u001b[0m \u001b[32m━━━━━━━━━━━━━━━━━━━━\u001b[0m\u001b[37m\u001b[0m \u001b[1m2s\u001b[0m 34ms/step - accuracy: 0.9997 - loss: 0.0043 - val_accuracy: 0.9821 - val_loss: 0.0916\n"
     ]
    }
   ],
   "source": [
    "from keras.callbacks import EarlyStopping, ModelCheckpoint\n",
    "\n",
    "early_stopping = EarlyStopping(monitor='val_loss', patience=3, restore_best_weights=True)\n",
    "model_checkpoint = ModelCheckpoint(filepath='best_model.keras', monitor='val_accuracy', save_best_only=True)\n",
    "\n",
    "\n",
    "tokenizer = Tokenizer(num_words=NUM_WORDS)\n",
    "tokenizer.fit_on_texts(X_train_LSTM)\n",
    "\n",
    "X_train_sequences = tokenizer.texts_to_sequences(X_train_LSTM)\n",
    "X_test_sequences = tokenizer.texts_to_sequences(X_test_LSTM)\n",
    "\n",
    "X_train_padded = pad_sequences(X_train_sequences, maxlen=MAX_TEXT_LEN)\n",
    "X_test_padded = pad_sequences(X_test_sequences, maxlen=MAX_TEXT_LEN)\n",
    "\n",
    "y_train_LSTM = np.array(y_train_LSTM)\n",
    "y_test_LSTM = np.array(y_test_LSTM)\n",
    "\n",
    "\n",
    "model = Sequential()\n",
    "model.add(Embedding(input_dim=NUM_WORDS, output_dim=128))\n",
    "model.add(LSTM(64))\n",
    "model.add(Dense(1, activation='sigmoid'))\n",
    "\n",
    "model.compile(optimizer='adam', loss='binary_crossentropy', metrics=['accuracy'])\n",
    "\n",
    "history = model.fit(X_train_padded, y_train_LSTM, \n",
    "                    batch_size=50, \n",
    "                    epochs=4, \n",
    "                    validation_split=0.2, \n",
    "                    callbacks=[early_stopping, model_checkpoint])\n"
   ]
  },
  {
   "cell_type": "code",
   "execution_count": 35,
   "id": "38e2fb9d-eb61-4c71-a286-e31d7633c611",
   "metadata": {},
   "outputs": [
    {
     "name": "stdout",
     "output_type": "stream",
     "text": [
      "\u001b[1m35/35\u001b[0m \u001b[32m━━━━━━━━━━━━━━━━━━━━\u001b[0m\u001b[37m\u001b[0m \u001b[1m0s\u001b[0m 8ms/step - accuracy: 0.9856 - loss: 0.0587\n",
      "Metric on test: [0.06125623732805252, 0.9856502413749695]\n"
     ]
    }
   ],
   "source": [
    "X_test_sequences = tokenizer.texts_to_sequences(X_test_LSTM)\n",
    "X_test_padded = pad_sequences(X_test_sequences, maxlen=MAX_TEXT_LEN)\n",
    "\n",
    "print(f'Metric on test: {model.evaluate(X_test_padded, y_test_LSTM)}')"
   ]
  },
  {
   "cell_type": "markdown",
   "id": "032fc298-d01b-4e1e-8d94-3af26e3bbce1",
   "metadata": {},
   "source": [
    "This function, ml_pipeline, encapsulates a streamlined process for classifying text inputs as either spam or non-spam, employing a pre-trained deep learning model alongside essential text preprocessing steps. Its purpose is paramount in various applications, notably in Natural Language Processing (NLP), where automated classification of textual data is indispensable."
   ]
  },
  {
   "cell_type": "code",
   "execution_count": 36,
   "id": "839843ee-cc53-4fa1-94ff-c5a81adfb3de",
   "metadata": {},
   "outputs": [],
   "source": [
    "def ml_pipeline(text: str) -> str:\n",
    "    try:\n",
    "        sequence = tokenizer.texts_to_sequences([text])\n",
    "        sequence = pad_sequences(sequence, maxlen=MAX_TEXT_LEN)\n",
    "        if sequence.max() == 0:\n",
    "            return 'Enter the words in English'\n",
    "        else:\n",
    "            predict = model.predict(sequence, verbose=0)\n",
    "            if predict > 0.5:\n",
    "                return 'The text is spam'\n",
    "            else:\n",
    "                return 'The text is not spam'\n",
    "    except AttributeError:\n",
    "        return 'Enter the text'"
   ]
  },
  {
   "cell_type": "markdown",
   "id": "e93834b7-eb5d-47e0-9baf-4fb3d65f218d",
   "metadata": {},
   "source": [
    "Here are some examples and the results generated:"
   ]
  },
  {
   "cell_type": "code",
   "execution_count": 37,
   "id": "427d54c8-83b4-41d7-ae52-f02237cc41b4",
   "metadata": {},
   "outputs": [
    {
     "data": {
      "text/plain": [
       "'The text is spam'"
      ]
     },
     "execution_count": 37,
     "metadata": {},
     "output_type": "execute_result"
    }
   ],
   "source": [
    "ml_pipeline('Hello click the link  to win a big price! https://www.ofcom.org.uk/phones-telecoms-and-internet/advice-for-consumers/problems/tackling-nuisance-calls-and-messages/spam-texts')"
   ]
  },
  {
   "cell_type": "code",
   "execution_count": 38,
   "id": "697622ae-864b-4728-9cde-a0ae85e940a1",
   "metadata": {},
   "outputs": [
    {
     "data": {
      "text/plain": [
       "'The text is not spam'"
      ]
     },
     "execution_count": 38,
     "metadata": {},
     "output_type": "execute_result"
    }
   ],
   "source": [
    "ml_pipeline('This is not a spam.')"
   ]
  },
  {
   "cell_type": "code",
   "execution_count": 39,
   "id": "e98b24e7-cbd7-42dc-a4e6-7905da3d4de8",
   "metadata": {},
   "outputs": [
    {
     "data": {
      "text/plain": [
       "'The text is spam'"
      ]
     },
     "execution_count": 39,
     "metadata": {},
     "output_type": "execute_result"
    }
   ],
   "source": [
    "ml_pipeline('Free entry for 3 comp to win FA Cup final tkts 21st May 2005')"
   ]
  },
  {
   "cell_type": "code",
   "execution_count": 40,
   "id": "29834e40-812a-4fdb-9071-2347084b9fff",
   "metadata": {},
   "outputs": [
    {
     "data": {
      "text/plain": [
       "'The text is spam'"
      ]
     },
     "execution_count": 40,
     "metadata": {},
     "output_type": "execute_result"
    }
   ],
   "source": [
    "ml_pipeline('Congrats! 1 year special cinema pass for 2 is yours. call 09061209465 NOW!')"
   ]
  },
  {
   "cell_type": "code",
   "execution_count": 41,
   "id": "e033cb4b-fb6e-4850-89ae-bd3538aa8955",
   "metadata": {},
   "outputs": [
    {
     "data": {
      "text/plain": [
       "'The text is not spam'"
      ]
     },
     "execution_count": 41,
     "metadata": {},
     "output_type": "execute_result"
    }
   ],
   "source": [
    "ml_pipeline('Happy B-day dude!')"
   ]
  },
  {
   "cell_type": "code",
   "execution_count": 42,
   "id": "560251ec-5812-4ac5-a89b-8d0bcd2d1545",
   "metadata": {},
   "outputs": [
    {
     "data": {
      "text/plain": [
       "'The text is not spam'"
      ]
     },
     "execution_count": 42,
     "metadata": {},
     "output_type": "execute_result"
    }
   ],
   "source": [
    "ml_pipeline('How were the exams...I heard from your friend that it was ok??.')"
   ]
  },
  {
   "cell_type": "code",
   "execution_count": 43,
   "id": "bf5177d1-2324-4ad7-a5a7-5fd340e2e183",
   "metadata": {},
   "outputs": [
    {
     "data": {
      "text/plain": [
       "'The text is not spam'"
      ]
     },
     "execution_count": 43,
     "metadata": {},
     "output_type": "execute_result"
    }
   ],
   "source": [
    "ml_pipeline('Happy B-day Bro!! Here are the photos from your party! https://drive.google.com/drive/folders/')"
   ]
  }
 ],
 "metadata": {
  "kernelspec": {
   "display_name": "Python 3 (ipykernel)",
   "language": "python",
   "name": "python3"
  },
  "language_info": {
   "codemirror_mode": {
    "name": "ipython",
    "version": 3
   },
   "file_extension": ".py",
   "mimetype": "text/x-python",
   "name": "python",
   "nbconvert_exporter": "python",
   "pygments_lexer": "ipython3",
   "version": "3.12.2"
  }
 },
 "nbformat": 4,
 "nbformat_minor": 5
}
